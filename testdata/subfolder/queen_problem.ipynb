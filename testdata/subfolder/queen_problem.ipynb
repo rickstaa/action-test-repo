{
 "cells": [
  {
   "cell_type": "code",
   "execution_count": null,
   "metadata": {},
   "outputs": [],
   "source": [
    "\"\"\"Small test script taken from https://wiki.python.org/moin/SimplePrograms\"\"\"\n",
    "\n",
    "import pwd # F401 'os' imported but unused\n",
    "import grp # F401 'os' imported but unused\n",
    "\n",
    "BOARD_SIZE = 8\n",
    "\n",
    "### E265 block comment should start with '# '\n",
    "print(\"Hello from reviewdog!\")\n",
    "print(\"Let's play a small queen problem game to test the flake8 github action.\")\n",
    "print(\"This game is taken from https://wiki.python.org/moin/SimplePrograms.\")\n",
    "\n",
    "class BailOut(Exception):\n",
    "    pass\n",
    "\n",
    "def validate(queens):\n",
    "    left = right = col = queens[-1] # E501 line too long (80 > 79 characters). Long description text\n",
    "    for r in reversed(queens[:-1]):\n",
    "        left, right = left-1, right+1\n",
    "        if r in (left, col, right):\n",
    "            raise BailOut\n",
    "\n",
    "def add_queen(queens):\n",
    "    for i in range(BOARD_SIZE):\n",
    "        test_queens = queens + [i]\n",
    "        try:\n",
    "            validate(test_queens)\n",
    "            if len(test_queens) == BOARD_SIZE:\n",
    "                return test_queens\n",
    "            else:\n",
    "                return add_queen(test_queens)\n",
    "        except BailOut:\n",
    "            pass\n",
    "    raise BailOut"
   ]
  },
  {
   "cell_type": "code",
   "execution_count": null,
   "metadata": {},
   "outputs": [],
   "source": [
    "queens = add_queen([])\n",
    "print (queens)\n",
    "print (\"\\n\".join(\". \"*q + \"Q \" + \". \"*(BOARD_SIZE-q-1) for q in queens))\n",
    "\n",
    "import dis # E402 module level import not at top of file"
   ]
  }
 ],
 "metadata": {
  "language_info": {
   "name": "python"
  },
  "orig_nbformat": 4
 },
 "nbformat": 4,
 "nbformat_minor": 2
}
