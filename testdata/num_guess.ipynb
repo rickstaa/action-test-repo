{
 "cells": [
  {
   "cell_type": "code",
   "execution_count": null,
   "metadata": {},
   "outputs": [],
   "source": [
    "\"\"\"Small test script taken from https://wiki.python.org/moin/SimplePrograms\"\"\"\n",
    "\n",
    "import random\n",
    "import sys # F401 'os' imported but unused\n",
    "import os # F401 'os' imported but unused\n",
    "\n",
    "### E265 block comment should start with '# '\n",
    "print(\"Hello from reviewdog!\")\n",
    "print(\"Let's play a small number guessing game to test the flake8 github action.\")\n",
    "print(\"This game is taken from https://wiki.python.org/moin/SimplePrograms.\")"
   ]
  },
  {
   "cell_type": "code",
   "execution_count": null,
   "metadata": {},
   "outputs": [],
   "source": [
    "guesses_made = 0\n",
    "\n",
    "name = input(\"Hello! What is your name?\\n\")\n",
    "\n",
    "number = random.randint(1, 20)\n",
    "print(\"Well, {0}, I am thinking of a number between 1 and 20.\".format(name)) # E501 line too long (80 > 79 characters)\n",
    "\n",
    "while guesses_made < 6:\n",
    "\n",
    "    guess = int(input(\"Take a guess: \"))\n",
    "\n",
    "    guesses_made += 1\n",
    "\n",
    "    if guess < number:\n",
    "        print(\"Your guess is too low.\")\n",
    "\n",
    "    if guess > number:\n",
    "        print(\"Your guess is too high.\")\n",
    "\n",
    "    if guess == number:\n",
    "        break\n",
    "\n",
    "if guess == number:\n",
    "    print(\n",
    "        \"Good job, {0}! You guessed my number in {1} guesses!\".format(\n",
    "            name, guesses_made\n",
    "        )\n",
    "    )\n",
    "else:\n",
    "    print(\"Nope. The number I was thinking of was {0}\".format(number))\n",
    "\n",
    "import itertools # E402 module level import not at top of file"
   ]
  }
 ],
 "metadata": {
  "language_info": {
   "name": "python"
  },
  "orig_nbformat": 4
 },
 "nbformat": 4,
 "nbformat_minor": 2
}
